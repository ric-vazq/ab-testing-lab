{
 "cells": [
  {
   "cell_type": "markdown",
   "metadata": {},
   "source": [
    "# Before your start:\n",
    "- Read the README.md file\n",
    "- Comment as much as you can and use the resources (README.md file)\n",
    "- Happy learning!"
   ]
  },
  {
   "cell_type": "code",
   "execution_count": 20,
   "metadata": {},
   "outputs": [],
   "source": [
    "# import numpy and pandas\n",
    "import pandas as pd\n",
    "import numpy as np\n",
    "from scipy.stats import trim_mean, mode, skew, gaussian_kde, pearsonr, spearmanr, beta\n",
    "from statsmodels.stats.weightstats import ztest as ztest\n",
    "\n",
    "from scipy.stats import ttest_ind, norm, ttest_1samp\n",
    "from scipy.stats import f_oneway\n",
    "from scipy.stats import sem"
   ]
  },
  {
   "cell_type": "markdown",
   "metadata": {},
   "source": [
    "# Challenge 1 - Exploring the Data\n",
    "\n",
    "In this challenge, we will examine all salaries of employees of the City of Chicago. We will start by loading the dataset and examining its contents"
   ]
  },
  {
   "cell_type": "code",
   "execution_count": 3,
   "metadata": {},
   "outputs": [],
   "source": [
    "# Run this code:\n",
    "salaries = pd.read_csv('./Current_Employee_Names__Salaries__and_Position_Titles.csv')\n"
   ]
  },
  {
   "cell_type": "markdown",
   "metadata": {},
   "source": [
    "Examine the `salaries` dataset using the `head` function below."
   ]
  },
  {
   "cell_type": "code",
   "execution_count": 5,
   "metadata": {},
   "outputs": [
    {
     "data": {
      "text/html": [
       "<div>\n",
       "<style scoped>\n",
       "    .dataframe tbody tr th:only-of-type {\n",
       "        vertical-align: middle;\n",
       "    }\n",
       "\n",
       "    .dataframe tbody tr th {\n",
       "        vertical-align: top;\n",
       "    }\n",
       "\n",
       "    .dataframe thead th {\n",
       "        text-align: right;\n",
       "    }\n",
       "</style>\n",
       "<table border=\"1\" class=\"dataframe\">\n",
       "  <thead>\n",
       "    <tr style=\"text-align: right;\">\n",
       "      <th></th>\n",
       "      <th>Name</th>\n",
       "      <th>Job Titles</th>\n",
       "      <th>Department</th>\n",
       "      <th>Full or Part-Time</th>\n",
       "      <th>Salary or Hourly</th>\n",
       "      <th>Typical Hours</th>\n",
       "      <th>Annual Salary</th>\n",
       "      <th>Hourly Rate</th>\n",
       "    </tr>\n",
       "  </thead>\n",
       "  <tbody>\n",
       "    <tr>\n",
       "      <th>0</th>\n",
       "      <td>AARON,  JEFFERY M</td>\n",
       "      <td>SERGEANT</td>\n",
       "      <td>POLICE</td>\n",
       "      <td>F</td>\n",
       "      <td>Salary</td>\n",
       "      <td>NaN</td>\n",
       "      <td>101442.0</td>\n",
       "      <td>NaN</td>\n",
       "    </tr>\n",
       "    <tr>\n",
       "      <th>1</th>\n",
       "      <td>AARON,  KARINA</td>\n",
       "      <td>POLICE OFFICER (ASSIGNED AS DETECTIVE)</td>\n",
       "      <td>POLICE</td>\n",
       "      <td>F</td>\n",
       "      <td>Salary</td>\n",
       "      <td>NaN</td>\n",
       "      <td>94122.0</td>\n",
       "      <td>NaN</td>\n",
       "    </tr>\n",
       "    <tr>\n",
       "      <th>2</th>\n",
       "      <td>AARON,  KIMBERLEI R</td>\n",
       "      <td>CHIEF CONTRACT EXPEDITER</td>\n",
       "      <td>GENERAL SERVICES</td>\n",
       "      <td>F</td>\n",
       "      <td>Salary</td>\n",
       "      <td>NaN</td>\n",
       "      <td>101592.0</td>\n",
       "      <td>NaN</td>\n",
       "    </tr>\n",
       "    <tr>\n",
       "      <th>3</th>\n",
       "      <td>ABAD JR,  VICENTE M</td>\n",
       "      <td>CIVIL ENGINEER IV</td>\n",
       "      <td>WATER MGMNT</td>\n",
       "      <td>F</td>\n",
       "      <td>Salary</td>\n",
       "      <td>NaN</td>\n",
       "      <td>110064.0</td>\n",
       "      <td>NaN</td>\n",
       "    </tr>\n",
       "    <tr>\n",
       "      <th>4</th>\n",
       "      <td>ABASCAL,  REECE E</td>\n",
       "      <td>TRAFFIC CONTROL AIDE-HOURLY</td>\n",
       "      <td>OEMC</td>\n",
       "      <td>P</td>\n",
       "      <td>Hourly</td>\n",
       "      <td>20.0</td>\n",
       "      <td>NaN</td>\n",
       "      <td>19.86</td>\n",
       "    </tr>\n",
       "    <tr>\n",
       "      <th>5</th>\n",
       "      <td>ABBASI,  CHRISTOPHER</td>\n",
       "      <td>STAFF ASST TO THE ALDERMAN</td>\n",
       "      <td>CITY COUNCIL</td>\n",
       "      <td>F</td>\n",
       "      <td>Salary</td>\n",
       "      <td>NaN</td>\n",
       "      <td>50436.0</td>\n",
       "      <td>NaN</td>\n",
       "    </tr>\n",
       "    <tr>\n",
       "      <th>6</th>\n",
       "      <td>ABBATACOLA,  ROBERT J</td>\n",
       "      <td>ELECTRICAL MECHANIC</td>\n",
       "      <td>AVIATION</td>\n",
       "      <td>F</td>\n",
       "      <td>Hourly</td>\n",
       "      <td>40.0</td>\n",
       "      <td>NaN</td>\n",
       "      <td>46.10</td>\n",
       "    </tr>\n",
       "    <tr>\n",
       "      <th>7</th>\n",
       "      <td>ABBATE,  JOSEPH L</td>\n",
       "      <td>POOL MOTOR TRUCK DRIVER</td>\n",
       "      <td>STREETS &amp; SAN</td>\n",
       "      <td>F</td>\n",
       "      <td>Hourly</td>\n",
       "      <td>40.0</td>\n",
       "      <td>NaN</td>\n",
       "      <td>35.60</td>\n",
       "    </tr>\n",
       "    <tr>\n",
       "      <th>8</th>\n",
       "      <td>ABBATEMARCO,  JAMES J</td>\n",
       "      <td>FIRE ENGINEER-EMT</td>\n",
       "      <td>FIRE</td>\n",
       "      <td>F</td>\n",
       "      <td>Salary</td>\n",
       "      <td>NaN</td>\n",
       "      <td>103350.0</td>\n",
       "      <td>NaN</td>\n",
       "    </tr>\n",
       "    <tr>\n",
       "      <th>9</th>\n",
       "      <td>ABBATE,  TERRY M</td>\n",
       "      <td>POLICE OFFICER</td>\n",
       "      <td>POLICE</td>\n",
       "      <td>F</td>\n",
       "      <td>Salary</td>\n",
       "      <td>NaN</td>\n",
       "      <td>93354.0</td>\n",
       "      <td>NaN</td>\n",
       "    </tr>\n",
       "  </tbody>\n",
       "</table>\n",
       "</div>"
      ],
      "text/plain": [
       "                    Name                              Job Titles  \\\n",
       "0      AARON,  JEFFERY M                                SERGEANT   \n",
       "1        AARON,  KARINA   POLICE OFFICER (ASSIGNED AS DETECTIVE)   \n",
       "2    AARON,  KIMBERLEI R                CHIEF CONTRACT EXPEDITER   \n",
       "3    ABAD JR,  VICENTE M                       CIVIL ENGINEER IV   \n",
       "4      ABASCAL,  REECE E             TRAFFIC CONTROL AIDE-HOURLY   \n",
       "5  ABBASI,  CHRISTOPHER               STAFF ASST TO THE ALDERMAN   \n",
       "6  ABBATACOLA,  ROBERT J                     ELECTRICAL MECHANIC   \n",
       "7     ABBATE,  JOSEPH L                  POOL MOTOR TRUCK DRIVER   \n",
       "8  ABBATEMARCO,  JAMES J                       FIRE ENGINEER-EMT   \n",
       "9       ABBATE,  TERRY M                          POLICE OFFICER   \n",
       "\n",
       "         Department Full or Part-Time Salary or Hourly  Typical Hours  \\\n",
       "0            POLICE                 F           Salary            NaN   \n",
       "1            POLICE                 F           Salary            NaN   \n",
       "2  GENERAL SERVICES                 F           Salary            NaN   \n",
       "3       WATER MGMNT                 F           Salary            NaN   \n",
       "4              OEMC                 P           Hourly           20.0   \n",
       "5      CITY COUNCIL                 F           Salary            NaN   \n",
       "6          AVIATION                 F           Hourly           40.0   \n",
       "7     STREETS & SAN                 F           Hourly           40.0   \n",
       "8              FIRE                 F           Salary            NaN   \n",
       "9            POLICE                 F           Salary            NaN   \n",
       "\n",
       "   Annual Salary  Hourly Rate  \n",
       "0       101442.0          NaN  \n",
       "1        94122.0          NaN  \n",
       "2       101592.0          NaN  \n",
       "3       110064.0          NaN  \n",
       "4            NaN        19.86  \n",
       "5        50436.0          NaN  \n",
       "6            NaN        46.10  \n",
       "7            NaN        35.60  \n",
       "8       103350.0          NaN  \n",
       "9        93354.0          NaN  "
      ]
     },
     "execution_count": 5,
     "metadata": {},
     "output_type": "execute_result"
    }
   ],
   "source": [
    "salaries.head(10)"
   ]
  },
  {
   "cell_type": "markdown",
   "metadata": {},
   "source": [
    "We see from looking at the `head` function that there is quite a bit of missing data. Let's examine how much missing data is in each column. Produce this output in the cell below"
   ]
  },
  {
   "cell_type": "code",
   "execution_count": 6,
   "metadata": {},
   "outputs": [
    {
     "name": "stdout",
     "output_type": "stream",
     "text": [
      "        Name  Job Titles  Department  Full or Part-Time  Salary or Hourly  \\\n",
      "0      False       False       False              False             False   \n",
      "1      False       False       False              False             False   \n",
      "2      False       False       False              False             False   \n",
      "3      False       False       False              False             False   \n",
      "4      False       False       False              False             False   \n",
      "...      ...         ...         ...                ...               ...   \n",
      "33178  False       False       False              False             False   \n",
      "33179  False       False       False              False             False   \n",
      "33180  False       False       False              False             False   \n",
      "33181  False       False       False              False             False   \n",
      "33182  False       False       False              False             False   \n",
      "\n",
      "       Typical Hours  Annual Salary  Hourly Rate  \n",
      "0               True          False         True  \n",
      "1               True          False         True  \n",
      "2               True          False         True  \n",
      "3               True          False         True  \n",
      "4              False           True        False  \n",
      "...              ...            ...          ...  \n",
      "33178           True          False         True  \n",
      "33179           True          False         True  \n",
      "33180           True          False         True  \n",
      "33181           True          False         True  \n",
      "33182           True          False         True  \n",
      "\n",
      "[33183 rows x 8 columns]\n"
     ]
    }
   ],
   "source": [
    "print(salaries.isnull())"
   ]
  },
  {
   "cell_type": "markdown",
   "metadata": {},
   "source": [
    "Let's also look at the count of hourly vs. salaried employees. Write the code in the cell below"
   ]
  },
  {
   "cell_type": "code",
   "execution_count": 7,
   "metadata": {},
   "outputs": [
    {
     "name": "stdout",
     "output_type": "stream",
     "text": [
      "Salary or Hourly\n",
      "Salary    25161\n",
      "Hourly     8022\n",
      "Name: count, dtype: int64\n"
     ]
    }
   ],
   "source": [
    "counts = salaries['Salary or Hourly'].value_counts()\n",
    "print(counts)"
   ]
  },
  {
   "cell_type": "markdown",
   "metadata": {},
   "source": [
    "What this information indicates is that the table contains information about two types of employees - salaried and hourly. Some columns apply only to one type of employee while other columns only apply to another kind. This is why there are so many missing values. Therefore, we will not do anything to handle the missing values."
   ]
  },
  {
   "cell_type": "markdown",
   "metadata": {},
   "source": [
    "There are different departments in the city. List all departments and the count of employees in each department."
   ]
  },
  {
   "cell_type": "code",
   "execution_count": 8,
   "metadata": {},
   "outputs": [
    {
     "name": "stdout",
     "output_type": "stream",
     "text": [
      "Department\n",
      "ADMIN HEARNG                39\n",
      "ANIMAL CONTRL               81\n",
      "AVIATION                  1629\n",
      "BOARD OF ELECTION          107\n",
      "BOARD OF ETHICS              8\n",
      "BUDGET & MGMT               46\n",
      "BUILDINGS                  269\n",
      "BUSINESS AFFAIRS           171\n",
      "CITY CLERK                  84\n",
      "CITY COUNCIL               411\n",
      "COMMUNITY DEVELOPMENT      207\n",
      "COPA                       116\n",
      "CULTURAL AFFAIRS            65\n",
      "DISABILITIES                28\n",
      "DoIT                        99\n",
      "FAMILY & SUPPORT           615\n",
      "FINANCE                    560\n",
      "FIRE                      4641\n",
      "GENERAL SERVICES           980\n",
      "HEALTH                     488\n",
      "HUMAN RELATIONS             16\n",
      "HUMAN RESOURCES             79\n",
      "INSPECTOR GEN               87\n",
      "LAW                        407\n",
      "LICENSE APPL COMM            1\n",
      "MAYOR'S OFFICE              85\n",
      "OEMC                      2102\n",
      "POLICE                   13414\n",
      "POLICE BOARD                 2\n",
      "PROCUREMENT                 92\n",
      "PUBLIC LIBRARY            1015\n",
      "STREETS & SAN             2198\n",
      "TRANSPORTN                1140\n",
      "TREASURER                   22\n",
      "WATER MGMNT               1879\n",
      "dtype: int64\n"
     ]
    }
   ],
   "source": [
    "department_counts = salaries.groupby('Department').size()\n",
    "print(department_counts)"
   ]
  },
  {
   "cell_type": "markdown",
   "metadata": {},
   "source": [
    "# Challenge 2 - Hypothesis Tests\n",
    "\n",
    "In this section of the lab, we will test whether the hourly wage of all hourly workers is significantly different from $30/hr. Import the correct one sample test function from scipy and perform the hypothesis test for a 95% two sided confidence interval."
   ]
  },
  {
   "cell_type": "code",
   "execution_count": 11,
   "metadata": {},
   "outputs": [
    {
     "name": "stdout",
     "output_type": "stream",
     "text": [
      "                         Name                      Job Titles  \\\n",
      "4           ABASCAL,  REECE E     TRAFFIC CONTROL AIDE-HOURLY   \n",
      "6       ABBATACOLA,  ROBERT J             ELECTRICAL MECHANIC   \n",
      "7          ABBATE,  JOSEPH L          POOL MOTOR TRUCK DRIVER   \n",
      "10           ABBOTT,  BETTY L              FOSTER GRANDPARENT   \n",
      "18       ABDULLAH,  LAKENYA N                  CROSSING GUARD   \n",
      "...                       ...                             ...   \n",
      "33164        ZUREK,  FRANCIS              ELECTRICAL MECHANIC   \n",
      "33168  ZWARYCZ MANN,  IRENE A                  CROSSING GUARD   \n",
      "33169      ZWARYCZ,  THOMAS J         POOL MOTOR TRUCK DRIVER   \n",
      "33174        ZYGADLO,  JOHN P          MACHINIST (AUTOMOTIVE)   \n",
      "33175     ZYGADLO,  MICHAEL J  FRM OF MACHINISTS - AUTOMOTIVE   \n",
      "\n",
      "             Department Full or Part-Time Salary or Hourly  Typical Hours  \\\n",
      "4                  OEMC                 P           Hourly           20.0   \n",
      "6              AVIATION                 F           Hourly           40.0   \n",
      "7         STREETS & SAN                 F           Hourly           40.0   \n",
      "10     FAMILY & SUPPORT                 P           Hourly           20.0   \n",
      "18                 OEMC                 P           Hourly           20.0   \n",
      "...                 ...               ...              ...            ...   \n",
      "33164              OEMC                 F           Hourly           40.0   \n",
      "33168              OEMC                 P           Hourly           20.0   \n",
      "33169       WATER MGMNT                 F           Hourly           40.0   \n",
      "33174  GENERAL SERVICES                 F           Hourly           40.0   \n",
      "33175  GENERAL SERVICES                 F           Hourly           40.0   \n",
      "\n",
      "       Annual Salary  Hourly Rate  \n",
      "4                NaN        19.86  \n",
      "6                NaN        46.10  \n",
      "7                NaN        35.60  \n",
      "10               NaN         2.65  \n",
      "18               NaN        17.68  \n",
      "...              ...          ...  \n",
      "33164            NaN        46.10  \n",
      "33168            NaN        17.68  \n",
      "33169            NaN        35.60  \n",
      "33174            NaN        46.35  \n",
      "33175            NaN        48.85  \n",
      "\n",
      "[8022 rows x 8 columns]\n",
      "Z-stat: 43.63629396989955\n",
      "p-value: 0.0\n"
     ]
    }
   ],
   "source": [
    "from statsmodels.stats.weightstats import ztest\n",
    "# Since we have an N of 8022 and only one sample (Hourly workers), we go for a Z-test\n",
    "# H0: Hourly rate == 30\n",
    "# H1: Hourly rate != 30\n",
    "salaries_hourly = salaries[salaries['Salary or Hourly'] == 'Hourly']\n",
    "print(salaries_hourly)\n",
    "typical_hours = salaries_hourly['Typical Hours'].dropna()\n",
    "\n",
    "population_mean = 30\n",
    "\n",
    "z_stat, p_value = ztest(typical_hours, value=population_mean)\n",
    "print(f\"Z-stat: {z_stat}\")\n",
    "print(f\"p-value: {p_value}\")\n",
    "\n",
    "# your code here"
   ]
  },
  {
   "cell_type": "markdown",
   "metadata": {},
   "source": [
    "We are also curious about salaries in the police force. The chief of police in Chicago claimed in a press briefing that salaries this year are higher than last year's mean of $86000/year a year for all salaried employees. Test this one sided hypothesis using a 95% confidence interval.\n",
    "\n",
    "Hint: A one tailed test has a p-value that is half of the two tailed p-value. If our hypothesis is greater than, then to reject, the test statistic must also be positive."
   ]
  },
  {
   "cell_type": "code",
   "execution_count": 12,
   "metadata": {},
   "outputs": [],
   "source": [
    "# Subset of the dataset: only Police department\n",
    "salaries_police = salaries[(salaries['Department'] == 'POLICE') & (salaries['Salary or Hourly'] == 'Salary')]"
   ]
  },
  {
   "cell_type": "code",
   "execution_count": null,
   "metadata": {},
   "outputs": [],
   "source": []
  },
  {
   "cell_type": "code",
   "execution_count": 13,
   "metadata": {},
   "outputs": [
    {
     "name": "stdout",
     "output_type": "stream",
     "text": [
      "Z-stat: 493.5002857399385\n",
      "p-value: 0.0\n"
     ]
    }
   ],
   "source": [
    "# Since we have an N of 13404 and only one sample (salary of the police), we go for a Z-test\n",
    "# H0: Annual Salary == 86000\n",
    "# H1: Annual Salary > 86000\n",
    "\n",
    "typical_salary = salaries_police['Annual Salary']\n",
    "mean_salary = 8600\n",
    "z_stat, p_value = ztest(typical_salary, value=mean_salary)\n",
    "print(f\"Z-stat: {z_stat}\")\n",
    "print(f\"p-value: {p_value}\")"
   ]
  },
  {
   "cell_type": "markdown",
   "metadata": {},
   "source": [
    "Using the `crosstab` function, find the department that has the most hourly workers. "
   ]
  },
  {
   "cell_type": "code",
   "execution_count": 16,
   "metadata": {
    "scrolled": true
   },
   "outputs": [
    {
     "name": "stdout",
     "output_type": "stream",
     "text": [
      "Salary or Hourly       Hourly  Salary\n",
      "Department                           \n",
      "ADMIN HEARNG                0      39\n",
      "ANIMAL CONTRL              19      62\n",
      "AVIATION                 1082     547\n",
      "BOARD OF ELECTION           0     107\n",
      "BOARD OF ETHICS             0       8\n",
      "BUDGET & MGMT               2      44\n",
      "BUILDINGS                   0     269\n",
      "BUSINESS AFFAIRS            7     164\n",
      "CITY CLERK                  0      84\n",
      "CITY COUNCIL               64     347\n",
      "COMMUNITY DEVELOPMENT       4     203\n",
      "COPA                        0     116\n",
      "CULTURAL AFFAIRS            7      58\n",
      "DISABILITIES                0      28\n",
      "DoIT                        0      99\n",
      "FAMILY & SUPPORT          287     328\n",
      "FINANCE                    44     516\n",
      "FIRE                        2    4639\n",
      "GENERAL SERVICES          765     215\n",
      "HEALTH                      3     485\n",
      "HUMAN RELATIONS             0      16\n",
      "HUMAN RESOURCES             4      75\n",
      "INSPECTOR GEN               0      87\n",
      "LAW                        40     367\n",
      "LICENSE APPL COMM           0       1\n",
      "MAYOR'S OFFICE              8      77\n",
      "OEMC                     1273     829\n",
      "POLICE                     10   13404\n",
      "POLICE BOARD                0       2\n",
      "PROCUREMENT                 2      90\n",
      "PUBLIC LIBRARY            299     716\n",
      "STREETS & SAN            1862     336\n",
      "TRANSPORTN                725     415\n",
      "TREASURER                   0      22\n",
      "WATER MGMNT              1513     366\n",
      "STREETS & SAN 1862\n"
     ]
    }
   ],
   "source": [
    "crosstab = pd.crosstab(salaries['Department'], salaries['Salary or Hourly'])\n",
    "print(crosstab)\n",
    "hourly_workers_by_department = crosstab['Hourly']\n",
    "max = hourly_workers_by_department.max()\n",
    "idxmax = hourly_workers_by_department.idxmax()\n",
    "\n",
    "print(idxmax, max)"
   ]
  },
  {
   "cell_type": "markdown",
   "metadata": {},
   "source": [
    "The workers from the department with the most hourly workers have complained that their hourly wage is less than $35/hour. Using a one sample t-test, test this one-sided hypothesis at the 95% confidence level."
   ]
  },
  {
   "cell_type": "code",
   "execution_count": 21,
   "metadata": {},
   "outputs": [
    {
     "name": "stdout",
     "output_type": "stream",
     "text": [
      "                         Name               Job Titles     Department  \\\n",
      "7          ABBATE,  JOSEPH L   POOL MOTOR TRUCK DRIVER  STREETS & SAN   \n",
      "21      ABDUL-SHAKUR,  TAHIR     GENERAL LABORER - DSS  STREETS & SAN   \n",
      "24     ABERCROMBIE,  TIMOTHY        MOTOR TRUCK DRIVER  STREETS & SAN   \n",
      "36        ABRAMS,  DANIELLE T       SANITATION LABORER  STREETS & SAN   \n",
      "39          ABRAMS,  SAMUEL A  POOL MOTOR TRUCK DRIVER  STREETS & SAN   \n",
      "...                       ...                      ...            ...   \n",
      "33106        ZIZUMBO,  JOSE N       MOTOR TRUCK DRIVER  STREETS & SAN   \n",
      "33107         ZIZUMBO,  LUIS        MOTOR TRUCK DRIVER  STREETS & SAN   \n",
      "33147        ZUMMO,  ROBERT J       MOTOR TRUCK DRIVER  STREETS & SAN   \n",
      "33149     ZUNICH,  JONATHAN G       SANITATION LABORER  STREETS & SAN   \n",
      "33156        ZUNIGA,  THOMAS     GENERAL LABORER - DSS  STREETS & SAN   \n",
      "\n",
      "      Full or Part-Time Salary or Hourly  Typical Hours  Annual Salary  \\\n",
      "7                     F           Hourly           40.0            NaN   \n",
      "21                    F           Hourly           40.0            NaN   \n",
      "24                    F           Hourly           40.0            NaN   \n",
      "36                    F           Hourly           40.0            NaN   \n",
      "39                    F           Hourly           40.0            NaN   \n",
      "...                 ...              ...            ...            ...   \n",
      "33106                 F           Hourly           40.0            NaN   \n",
      "33107                 F           Hourly           40.0            NaN   \n",
      "33147                 F           Hourly           40.0            NaN   \n",
      "33149                 F           Hourly           40.0            NaN   \n",
      "33156                 F           Hourly           40.0            NaN   \n",
      "\n",
      "       Hourly Rate  \n",
      "7            35.60  \n",
      "21           21.43  \n",
      "24           35.60  \n",
      "36           36.21  \n",
      "39           35.60  \n",
      "...            ...  \n",
      "33106        36.13  \n",
      "33107        35.60  \n",
      "33147        35.60  \n",
      "33149        36.21  \n",
      "33156        22.12  \n",
      "\n",
      "[1862 rows x 8 columns]\n",
      "7        35.60\n",
      "21       21.43\n",
      "24       35.60\n",
      "36       36.21\n",
      "39       35.60\n",
      "         ...  \n",
      "33106    36.13\n",
      "33107    35.60\n",
      "33147    35.60\n",
      "33149    36.21\n",
      "33156    22.12\n",
      "Name: Hourly Rate, Length: 1862, dtype: float64\n",
      "Reject the null hypothesis. There is evidence that the mean hourly wage is less than $35/hour.\n"
     ]
    }
   ],
   "source": [
    "street_san_hourly_employees = salaries[(salaries[\"Department\"] == \"STREETS & SAN\") & (salaries[\"Salary or Hourly\"] == \"Hourly\")]\n",
    "print(street_san_hourly_employees)\n",
    "hourly_rate_streets_san = street_san_hourly_employees[\"Hourly Rate\"]\n",
    "print(hourly_rate_streets_san)\n",
    "\n",
    "alpha = 0.05\n",
    "hypothesized_mean = 35\n",
    "t_statistic, p_value = ttest_1samp(hourly_rate_streets_san, hypothesized_mean, alternative=\"less\")\n",
    "\n",
    "if p_value < alpha:\n",
    "    print(\"Reject the null hypothesis. There is evidence that the mean hourly wage is less than $35/hour.\")\n",
    "else:\n",
    "    print(\"Fail to reject the null hypothesis. There is not enough evidence that the mean hourly wage is less than $35/hour.\")"
   ]
  }
 ],
 "metadata": {
  "kernelspec": {
   "display_name": "Python 3 (ipykernel)",
   "language": "python",
   "name": "python3"
  },
  "language_info": {
   "codemirror_mode": {
    "name": "ipython",
    "version": 3
   },
   "file_extension": ".py",
   "mimetype": "text/x-python",
   "name": "python",
   "nbconvert_exporter": "python",
   "pygments_lexer": "ipython3",
   "version": "3.11.7"
  }
 },
 "nbformat": 4,
 "nbformat_minor": 2
}
